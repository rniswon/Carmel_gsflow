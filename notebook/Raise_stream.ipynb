{
 "cells": [
  {
   "cell_type": "code",
   "execution_count": 1,
   "metadata": {},
   "outputs": [
    {
     "name": "stdout",
     "output_type": "stream",
     "text": [
      "flopy is installed in C:\\Users\\rniswon\\Documents\\Data\\Git\\flopy.git\\flopy\n",
      "Control file is loaded\n",
      "Working on loading MODFLOW files ....\n",
      "MODFLOW files are loaded ... \n"
     ]
    }
   ],
   "source": [
    "import os, sys\n",
    "import numpy as np\n",
    "import pandas as pd\n",
    "sys.path.insert(0,r\"C:\\Users\\rniswon\\Documents\\Data\\Git\\flopy.git\")\n",
    "import gsflow\n",
    "\n",
    "\n",
    "#---------------------------------------------------------\n",
    "# Read modflow only\n",
    "#---------------------------------------------------------\n",
    "\n",
    "control_file = r\"C:\\Users\\rniswon\\Documents\\Data\\Git\\carmel.git\\Simulation_20160812T131753\\carmel_test.control\"\n",
    "\n",
    "gs = gsflow.GsflowModel.load_from_file(control_file = control_file, mf_load_only = ['DIS', 'BAS6', 'SFR'],\n",
    "                                       modflow_only=True )\n",
    "sfr = gs.mf.sfr"
   ]
  },
  {
   "cell_type": "code",
   "execution_count": 2,
   "metadata": {},
   "outputs": [
    {
     "data": {
      "text/plain": [
       "['DIS', 'BAS6', 'SFR']"
      ]
     },
     "execution_count": 2,
     "metadata": {},
     "output_type": "execute_result"
    }
   ],
   "source": [
    "gs.mf.get_package_list()"
   ]
  },
  {
   "cell_type": "code",
   "execution_count": 3,
   "metadata": {},
   "outputs": [
    {
     "data": {
      "text/plain": [
       "'C:\\\\Users\\\\rniswon\\\\Documents\\\\Data\\\\Git\\\\flopy.git\\\\flopy\\\\__init__.pyc'"
      ]
     },
     "execution_count": 3,
     "metadata": {},
     "output_type": "execute_result"
    }
   ],
   "source": [
    "import flopy\n",
    "flopy.__file__"
   ]
  },
  {
   "cell_type": "code",
   "execution_count": 4,
   "metadata": {},
   "outputs": [
    {
     "data": {
      "text/plain": [
       "'C:\\\\Users\\\\rniswon\\\\AppData\\\\Local\\\\Continuum\\\\miniconda2\\\\python.exe'"
      ]
     },
     "execution_count": 4,
     "metadata": {},
     "output_type": "execute_result"
    }
   ],
   "source": [
    "sys.executable"
   ]
  },
  {
   "cell_type": "code",
   "execution_count": 14,
   "metadata": {},
   "outputs": [
    {
     "name": "stdout",
     "output_type": "stream",
     "text": [
      "\n",
      "changing model workspace...\n",
      "   C:\\Users\\rniswon\\Documents\\Data\\Git\\carmel.git\\notebook\\myyy\n"
     ]
    }
   ],
   "source": [
    "\n",
    "# ------------------------------------------------------------------\n",
    "# Read a csv file with data that has two columns. The first is the iseg and the\n",
    "# second is the elevation change.\n",
    "#-------------------------------------------------------------------\n",
    "file_with_elev_changes = r\"C:\\Users\\rniswon\\Documents\\Data\\Git\\carmel.git\\notebook\\change_sfr_elev.csv\"\n",
    "elv_chg_df = pd.read_csv(file_with_elev_changes)\n",
    "reach_data = sfr.reach_data.copy() # get a copy of sfr object\n",
    "\n",
    "for i, seg in elv_chg_df.iterrows():\n",
    "    current_seg = seg['ISEG']\n",
    "    current_change = seg['DELTA']\n",
    "    filter_by_seg = reach_data['iseg'] == current_seg\n",
    "    reach_data['strtop'][filter_by_seg] = reach_data['strtop'][filter_by_seg] + current_change\n",
    "\n",
    "gs.mf.sfr.reach_data = reach_data\n",
    "\n",
    "gs.mf.change_model_ws(r\"C:\\Users\\rniswon\\Documents\\Data\\Git\\carmel.git\\notebook\\myyy\")\n",
    "gs.mf.sfr.write_file()\n",
    "reach_data = gs.mf.sfr.reach_data"
   ]
  },
  {
   "cell_type": "code",
   "execution_count": 24,
   "metadata": {},
   "outputs": [],
   "source": [
    "dis = gs.mf.dis\n",
    "top = dis.gettop()\n",
    "for i, seg in elv_chg_df.iterrows():\n",
    "    current_change = seg['DELTA']\n",
    "    current_jrch = int(seg['JRCH'])\n",
    "    current_irch = int(seg['IRCH'])\n",
    "    top[current_irch,current_jrch] = top[current_irch,current_jrch] + current_change\n",
    "    \n",
    "gs.mf.dis.write_file()\n",
    "top = gs.mf.dis.top"
   ]
  },
  {
   "cell_type": "code",
   "execution_count": null,
   "metadata": {},
   "outputs": [],
   "source": []
  }
 ],
 "metadata": {
  "kernelspec": {
   "display_name": "Python 2",
   "language": "python",
   "name": "python2"
  },
  "language_info": {
   "codemirror_mode": {
    "name": "ipython",
    "version": 2
   },
   "file_extension": ".py",
   "mimetype": "text/x-python",
   "name": "python",
   "nbconvert_exporter": "python",
   "pygments_lexer": "ipython2",
   "version": "2.7.15"
  }
 },
 "nbformat": 4,
 "nbformat_minor": 2
}
