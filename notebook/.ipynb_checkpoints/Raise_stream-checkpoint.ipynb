{
 "cells": [
  {
   "cell_type": "code",
   "execution_count": 1,
   "metadata": {},
   "outputs": [],
   "source": [
    "import sys\n",
    "import matplotlib.pyplot as plt\n",
    "sys.path.insert(0,r\"C:\\Users\\rniswon\\Documents\\Data\\Git\\flopy.git\")\n",
    "sys.path.insert(0,r\"C:\\Users\\rniswon\\Documents\\Data\\Git\\pyGSFLOW.git\")"
   ]
  },
  {
   "cell_type": "code",
   "execution_count": 2,
   "metadata": {},
   "outputs": [
    {
     "name": "stdout",
     "output_type": "stream",
     "text": [
      "flopy is installed in C:\\Users\\rniswon\\Documents\\Data\\Git\\flopy.git\\flopy\n"
     ]
    }
   ],
   "source": [
    "import gsflow"
   ]
  },
  {
   "cell_type": "code",
   "execution_count": 3,
   "metadata": {},
   "outputs": [
    {
     "data": {
      "text/plain": [
       "'C:\\\\Users\\\\rniswon\\\\Documents\\\\Data\\\\Git\\\\pyGSFLOW.git\\\\gsflow\\\\__init__.py'"
      ]
     },
     "execution_count": 3,
     "metadata": {},
     "output_type": "execute_result"
    }
   ],
   "source": [
    "gsflow.__file__"
   ]
  },
  {
   "cell_type": "code",
   "execution_count": 4,
   "metadata": {},
   "outputs": [
    {
     "name": "stdout",
     "output_type": "stream",
     "text": [
      "C:\\Users\\rniswon\\Documents\\Data\\Git\\Carmel_gsflow.git\\Simulation_20160812T131753\\carmel_test.control\n",
      "Control file is loaded\n",
      "Working on loading MODFLOW files ....\n",
      "MODFLOW files are loaded ... \n"
     ]
    }
   ],
   "source": [
    "import os, sys\n",
    "import numpy as np\n",
    "import pandas as pd\n",
    "sys.path.insert(0,r\"C:\\Users\\rniswon\\Documents\\Data\\Git\\flopy.git\")\n",
    "import gsflow\n",
    "\n",
    "\n",
    "#---------------------------------------------------------\n",
    "# Read modflow only\n",
    "#---------------------------------------------------------\n",
    "\n",
    "control_file = r\"C:\\Users\\rniswon\\Documents\\Data\\Git\\Carmel_gsflow.git\\Simulation_20160812T131753\\carmel_test.control\"\n",
    "\n",
    "print(control_file)\n",
    "\n",
    "gs = gsflow.GsflowModel.load_from_file(control_file = control_file, mf_load_only = ['DIS', 'BAS6', 'SFR'],\n",
    "                                       modflow_only=True )\n",
    "#gs = gsflow.gsflow.load(control_file=control_file)\n",
    "sfr = gs.mf.sfr"
   ]
  },
  {
   "cell_type": "code",
   "execution_count": 5,
   "metadata": {},
   "outputs": [
    {
     "data": {
      "text/plain": [
       "['DIS', 'BAS6', 'SFR']"
      ]
     },
     "execution_count": 5,
     "metadata": {},
     "output_type": "execute_result"
    }
   ],
   "source": [
    "gs.mf.get_package_list()"
   ]
  },
  {
   "cell_type": "code",
   "execution_count": 6,
   "metadata": {},
   "outputs": [
    {
     "data": {
      "text/plain": [
       "'C:\\\\Users\\\\rniswon\\\\Documents\\\\Data\\\\Git\\\\flopy.git\\\\flopy\\\\__init__.py'"
      ]
     },
     "execution_count": 6,
     "metadata": {},
     "output_type": "execute_result"
    }
   ],
   "source": [
    "import flopy\n",
    "flopy.__file__"
   ]
  },
  {
   "cell_type": "code",
   "execution_count": 7,
   "metadata": {},
   "outputs": [
    {
     "data": {
      "text/plain": [
       "'C:\\\\Users\\\\rniswon\\\\AppData\\\\Local\\\\Continuum\\\\miniconda3\\\\python.exe'"
      ]
     },
     "execution_count": 7,
     "metadata": {},
     "output_type": "execute_result"
    }
   ],
   "source": [
    "sys.executable"
   ]
  },
  {
   "cell_type": "code",
   "execution_count": 8,
   "metadata": {},
   "outputs": [
    {
     "name": "stdout",
     "output_type": "stream",
     "text": [
      "\n",
      "changing model workspace...\n",
      "   C:\\Users\\rniswon\\Documents\\Data\\Git\\carmel_gsflow.git\\notebook\\myyy\n"
     ]
    }
   ],
   "source": [
    "\n",
    "# ------------------------------------------------------------------\n",
    "# Read a csv file with data that has two columns. The first is the iseg and the\n",
    "# second is the elevation change.\n",
    "#-------------------------------------------------------------------\n",
    "file_with_elev_changes = r\"C:\\Users\\rniswon\\Documents\\Data\\Git\\carmel_gsflow.git\\notebook\\change_sfr_elev.csv\"\n",
    "elv_chg_df = pd.read_csv(file_with_elev_changes)\n",
    "reach_data = sfr.reach_data.copy() # get a copy of sfr object\n",
    "\n",
    "for i, seg in elv_chg_df.iterrows():\n",
    "    current_seg = seg['ISEG']\n",
    "    current_change = seg['DELTA']\n",
    "    filter_by_seg = reach_data['iseg'] == current_seg\n",
    "    reach_data['strtop'][filter_by_seg] = reach_data['strtop'][filter_by_seg] + current_change\n",
    "\n",
    "gs.mf.sfr.reach_data = reach_data\n",
    "\n",
    "gs.mf.change_model_ws(r\"C:\\Users\\rniswon\\Documents\\Data\\Git\\carmel_gsflow.git\\notebook\\myyy\")\n",
    "gs.mf.sfr.write_file()\n",
    "#reach_data = gs.mf.sfr.reach_data"
   ]
  },
  {
   "cell_type": "code",
   "execution_count": 10,
   "metadata": {},
   "outputs": [],
   "source": [
    "dis = gs.mf.dis\n",
    "top = dis.top.array.copy()    #gettop()\n",
    "top2 = np.copy(top)\n",
    "nseg = gs.mf.sfr.nss\n",
    "reachdata=gs.mf.sfr.reach_data\n",
    "reachdata=pd.DataFrame(reachdata)\n",
    "for i in range(nseg):\n",
    "    if i>2435:\n",
    "        continue\n",
    "    filter_by_seg = reachdata['iseg'] == i+1\n",
    "    rows=reachdata['i'][filter_by_seg].values\n",
    "    cols=reachdata['j'][filter_by_seg].values\n",
    "    seg = elv_chg_df[elv_chg_df['ISEG']==(i+1)]\n",
    "    current_change = seg['DELTA']\n",
    "    top[rows,cols] = top[rows,cols] + current_change.values[0]\n",
    "gs.mf.dis.top=top\n",
    "gs.mf.dis.write_file()"
   ]
  },
  {
   "cell_type": "code",
   "execution_count": 13,
   "metadata": {},
   "outputs": [
    {
     "name": "stdout",
     "output_type": "stream",
     "text": [
      "****Warning -- two packages of the same type:  <class 'flopy.modflow.mfdis.ModflowDis'> <class 'flopy.modflow.mfdis.ModflowDis'>\n",
      "replacing existing Package...\n"
     ]
    }
   ],
   "source": [
    "dis2=gs.mf.dis.load(r\"C:\\Users\\rniswon\\Documents\\Data\\Git\\Carmel_gsflow.git\\notebook\\myyy\\carmel.dis\",model=gs.mf)"
   ]
  },
  {
   "cell_type": "code",
   "execution_count": 14,
   "metadata": {},
   "outputs": [],
   "source": [
    "gs.mf.dis.write_file()"
   ]
  },
  {
   "cell_type": "code",
   "execution_count": 19,
   "metadata": {},
   "outputs": [
    {
     "data": {
      "text/plain": [
       "<matplotlib.colorbar.Colorbar at 0x1bdf8047c88>"
      ]
     },
     "execution_count": 19,
     "metadata": {},
     "output_type": "execute_result"
    },
    {
     "data": {
      "image/png": "[encoded data removed]",
      "text/plain": [
       "<Figure size 864x720 with 2 Axes>"
      ]
     },
     "metadata": {
      "needs_background": "light"
     },
     "output_type": "display_data"
    }
   ],
   "source": [
    "plt.figure(figsize=[12,10])\n",
    "plt.imshow(gs.mf.dis.top.array-top2)\n",
    "plt.colorbar()"
   ]
  },
  {
   "cell_type": "code",
   "execution_count": 16,
   "metadata": {},
   "outputs": [
    {
     "data": {
      "text/plain": [
       "'C:\\\\Users\\\\rniswon\\\\Documents\\\\Data\\\\Git\\\\carmel_gsflow.git\\\\notebook\\\\myyy\\\\carmel_test.dis'"
      ]
     },
     "execution_count": 16,
     "metadata": {},
     "output_type": "execute_result"
    }
   ],
   "source": [
    "gs.mf.dis.fn_path"
   ]
  },
  {
   "cell_type": "code",
   "execution_count": null,
   "metadata": {},
   "outputs": [],
   "source": []
  }
 ],
 "metadata": {
  "kernelspec": {
   "display_name": "Python 3",
   "language": "python",
   "name": "python3"
  },
  "language_info": {
   "codemirror_mode": {
    "name": "ipython",
    "version": 3
   },
   "file_extension": ".py",
   "mimetype": "text/x-python",
   "name": "python",
   "nbconvert_exporter": "python",
   "pygments_lexer": "ipython3",
   "version": "3.7.3"
  }
 },
 "nbformat": 4,
 "nbformat_minor": 2
}
